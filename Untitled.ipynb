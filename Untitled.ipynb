{
 "cells": [
  {
   "cell_type": "code",
   "execution_count": 2,
   "metadata": {},
   "outputs": [],
   "source": [
    "import pandas as pd\n",
    "from pyecharts import Geo"
   ]
  },
  {
   "cell_type": "code",
   "execution_count": 3,
   "metadata": {},
   "outputs": [],
   "source": [
    "city = pd.read_csv('C:/Users/24127/OneDrive/AMAP/data/city_part.csv')"
   ]
  },
  {
   "cell_type": "code",
   "execution_count": 4,
   "metadata": {},
   "outputs": [],
   "source": [
    "peacebird = pd.read_csv('C:/Users/24127/OneDrive/AMAP/data/peacebird.csv',encoding='utf_8')"
   ]
  },
  {
   "cell_type": "code",
   "execution_count": 5,
   "metadata": {},
   "outputs": [
    {
     "data": {
      "text/plain": [
       "Index(['Unnamed: 0', 'city', 'rate'], dtype='object')"
      ]
     },
     "execution_count": 5,
     "metadata": {},
     "output_type": "execute_result"
    }
   ],
   "source": [
    "city.columns"
   ]
  },
  {
   "cell_type": "code",
   "execution_count": 6,
   "metadata": {},
   "outputs": [],
   "source": [
    "for i in range(city.shape[0]):\n",
    "    city.loc[i,'num']=int(peacebird[peacebird['city']==city.loc[i,'city']].shape[0])"
   ]
  },
  {
   "cell_type": "code",
   "execution_count": 7,
   "metadata": {},
   "outputs": [],
   "source": [
    "city.drop([88,101,231,232,270,284,317,329,335,336],inplace = True)"
   ]
  },
  {
   "cell_type": "code",
   "execution_count": 8,
   "metadata": {},
   "outputs": [],
   "source": [
    "data = [[],[],[],[],[],[]]\n",
    "rate = ['一线城市','新一线城市','二线城市','三线城市','四线城市','五线城市']\n",
    "for i in list(city.index):\n",
    "    if city.loc[i,'rate'] in rate:\n",
    "        data[rate.index(city.loc[i,'rate'])].append((city.loc[i,'city'],city.loc[i,'num']))"
   ]
  },
  {
   "cell_type": "code",
   "execution_count": 12,
   "metadata": {},
   "outputs": [],
   "source": [
    "\n",
    "geo = Geo(\"全国太平鸟覆盖分布图\", \"data from Lanezone\", title_color=\"#fff\",title_pos=\"center\",\n",
    "width=1200, height=600, background_color='#404a59')\n",
    "symbol_size = [25,20,15,10,5,2]\n",
    "\n",
    "for i in range(len(data)):\n",
    "    attr, value = geo.cast(data[i])\n",
    "    geo.add(rate[i], attr, value, visual_range=[min(city['num']),max(city['num'])], visual_text_color=\"#111\", border_color='#222',\n",
    "            symbol_size=symbol_size[i], is_visualmap=True,legend_top='bottom',legend_right='center')\n",
    "\n",
    "geo.render()\n",
    "\n"
   ]
  },
  {
   "cell_type": "code",
   "execution_count": null,
   "metadata": {},
   "outputs": [],
   "source": []
  }
 ],
 "metadata": {
  "kernelspec": {
   "display_name": "Python 3",
   "language": "python",
   "name": "python3"
  },
  "language_info": {
   "codemirror_mode": {
    "name": "ipython",
    "version": 3
   },
   "file_extension": ".py",
   "mimetype": "text/x-python",
   "name": "python",
   "nbconvert_exporter": "python",
   "pygments_lexer": "ipython3",
   "version": "3.6.4"
  }
 },
 "nbformat": 4,
 "nbformat_minor": 2
}
